{
  "cells": [
    {
      "cell_type": "code",
      "execution_count": 1,
      "id": "1df5e8c4",
      "metadata": {
        "colab": {
          "base_uri": "https://localhost:8080/"
        },
        "id": "1df5e8c4",
        "outputId": "0db0263b-3944-465c-9063-334e4c4631fe"
      },
      "outputs": [
        {
          "output_type": "stream",
          "name": "stderr",
          "text": [
            "[nltk_data] Downloading package punkt to /root/nltk_data...\n",
            "[nltk_data]   Unzipping tokenizers/punkt.zip.\n",
            "[nltk_data] Downloading package wordnet to /root/nltk_data...\n",
            "[nltk_data] Downloading package omw-1.4 to /root/nltk_data...\n"
          ]
        }
      ],
      "source": [
        "import nltk\n",
        "nltk.download(\"punkt\")\n",
        "nltk.download(\"wordnet\")\n",
        "nltk.download('omw-1.4')\n",
        "from nltk.tokenize import word_tokenize\n",
        "import math\n",
        "import matplotlib.pyplot as plt\n",
        "import pandas as pd\n",
        "import string\n",
        "from nltk.stem.wordnet import WordNetLemmatizer\n",
        "lemmatizer = WordNetLemmatizer()\n",
        "from collections import Counter\n",
        "import seaborn as sns\n",
        "sns.set(style = \"whitegrid\")\n",
        "import numpy as np\n",
        "import re"
      ]
    },
    {
      "cell_type": "code",
      "source": [
        "from google.colab import files\n",
        "uploaded = files.upload()"
      ],
      "metadata": {
        "colab": {
          "base_uri": "https://localhost:8080/",
          "height": 218
        },
        "id": "QQcKDxqXx0Nj",
        "outputId": "fbb2f0d0-71b3-46c7-d127-d3dfc7080e63"
      },
      "id": "QQcKDxqXx0Nj",
      "execution_count": 2,
      "outputs": [
        {
          "output_type": "display_data",
          "data": {
            "text/plain": [
              "<IPython.core.display.HTML object>"
            ],
            "text/html": [
              "\n",
              "     <input type=\"file\" id=\"files-7ed93893-2f69-4b6a-9ce3-6bc0f172923e\" name=\"files[]\" multiple disabled\n",
              "        style=\"border:none\" />\n",
              "     <output id=\"result-7ed93893-2f69-4b6a-9ce3-6bc0f172923e\">\n",
              "      Upload widget is only available when the cell has been executed in the\n",
              "      current browser session. Please rerun this cell to enable.\n",
              "      </output>\n",
              "      <script>// Copyright 2017 Google LLC\n",
              "//\n",
              "// Licensed under the Apache License, Version 2.0 (the \"License\");\n",
              "// you may not use this file except in compliance with the License.\n",
              "// You may obtain a copy of the License at\n",
              "//\n",
              "//      http://www.apache.org/licenses/LICENSE-2.0\n",
              "//\n",
              "// Unless required by applicable law or agreed to in writing, software\n",
              "// distributed under the License is distributed on an \"AS IS\" BASIS,\n",
              "// WITHOUT WARRANTIES OR CONDITIONS OF ANY KIND, either express or implied.\n",
              "// See the License for the specific language governing permissions and\n",
              "// limitations under the License.\n",
              "\n",
              "/**\n",
              " * @fileoverview Helpers for google.colab Python module.\n",
              " */\n",
              "(function(scope) {\n",
              "function span(text, styleAttributes = {}) {\n",
              "  const element = document.createElement('span');\n",
              "  element.textContent = text;\n",
              "  for (const key of Object.keys(styleAttributes)) {\n",
              "    element.style[key] = styleAttributes[key];\n",
              "  }\n",
              "  return element;\n",
              "}\n",
              "\n",
              "// Max number of bytes which will be uploaded at a time.\n",
              "const MAX_PAYLOAD_SIZE = 100 * 1024;\n",
              "\n",
              "function _uploadFiles(inputId, outputId) {\n",
              "  const steps = uploadFilesStep(inputId, outputId);\n",
              "  const outputElement = document.getElementById(outputId);\n",
              "  // Cache steps on the outputElement to make it available for the next call\n",
              "  // to uploadFilesContinue from Python.\n",
              "  outputElement.steps = steps;\n",
              "\n",
              "  return _uploadFilesContinue(outputId);\n",
              "}\n",
              "\n",
              "// This is roughly an async generator (not supported in the browser yet),\n",
              "// where there are multiple asynchronous steps and the Python side is going\n",
              "// to poll for completion of each step.\n",
              "// This uses a Promise to block the python side on completion of each step,\n",
              "// then passes the result of the previous step as the input to the next step.\n",
              "function _uploadFilesContinue(outputId) {\n",
              "  const outputElement = document.getElementById(outputId);\n",
              "  const steps = outputElement.steps;\n",
              "\n",
              "  const next = steps.next(outputElement.lastPromiseValue);\n",
              "  return Promise.resolve(next.value.promise).then((value) => {\n",
              "    // Cache the last promise value to make it available to the next\n",
              "    // step of the generator.\n",
              "    outputElement.lastPromiseValue = value;\n",
              "    return next.value.response;\n",
              "  });\n",
              "}\n",
              "\n",
              "/**\n",
              " * Generator function which is called between each async step of the upload\n",
              " * process.\n",
              " * @param {string} inputId Element ID of the input file picker element.\n",
              " * @param {string} outputId Element ID of the output display.\n",
              " * @return {!Iterable<!Object>} Iterable of next steps.\n",
              " */\n",
              "function* uploadFilesStep(inputId, outputId) {\n",
              "  const inputElement = document.getElementById(inputId);\n",
              "  inputElement.disabled = false;\n",
              "\n",
              "  const outputElement = document.getElementById(outputId);\n",
              "  outputElement.innerHTML = '';\n",
              "\n",
              "  const pickedPromise = new Promise((resolve) => {\n",
              "    inputElement.addEventListener('change', (e) => {\n",
              "      resolve(e.target.files);\n",
              "    });\n",
              "  });\n",
              "\n",
              "  const cancel = document.createElement('button');\n",
              "  inputElement.parentElement.appendChild(cancel);\n",
              "  cancel.textContent = 'Cancel upload';\n",
              "  const cancelPromise = new Promise((resolve) => {\n",
              "    cancel.onclick = () => {\n",
              "      resolve(null);\n",
              "    };\n",
              "  });\n",
              "\n",
              "  // Wait for the user to pick the files.\n",
              "  const files = yield {\n",
              "    promise: Promise.race([pickedPromise, cancelPromise]),\n",
              "    response: {\n",
              "      action: 'starting',\n",
              "    }\n",
              "  };\n",
              "\n",
              "  cancel.remove();\n",
              "\n",
              "  // Disable the input element since further picks are not allowed.\n",
              "  inputElement.disabled = true;\n",
              "\n",
              "  if (!files) {\n",
              "    return {\n",
              "      response: {\n",
              "        action: 'complete',\n",
              "      }\n",
              "    };\n",
              "  }\n",
              "\n",
              "  for (const file of files) {\n",
              "    const li = document.createElement('li');\n",
              "    li.append(span(file.name, {fontWeight: 'bold'}));\n",
              "    li.append(span(\n",
              "        `(${file.type || 'n/a'}) - ${file.size} bytes, ` +\n",
              "        `last modified: ${\n",
              "            file.lastModifiedDate ? file.lastModifiedDate.toLocaleDateString() :\n",
              "                                    'n/a'} - `));\n",
              "    const percent = span('0% done');\n",
              "    li.appendChild(percent);\n",
              "\n",
              "    outputElement.appendChild(li);\n",
              "\n",
              "    const fileDataPromise = new Promise((resolve) => {\n",
              "      const reader = new FileReader();\n",
              "      reader.onload = (e) => {\n",
              "        resolve(e.target.result);\n",
              "      };\n",
              "      reader.readAsArrayBuffer(file);\n",
              "    });\n",
              "    // Wait for the data to be ready.\n",
              "    let fileData = yield {\n",
              "      promise: fileDataPromise,\n",
              "      response: {\n",
              "        action: 'continue',\n",
              "      }\n",
              "    };\n",
              "\n",
              "    // Use a chunked sending to avoid message size limits. See b/62115660.\n",
              "    let position = 0;\n",
              "    do {\n",
              "      const length = Math.min(fileData.byteLength - position, MAX_PAYLOAD_SIZE);\n",
              "      const chunk = new Uint8Array(fileData, position, length);\n",
              "      position += length;\n",
              "\n",
              "      const base64 = btoa(String.fromCharCode.apply(null, chunk));\n",
              "      yield {\n",
              "        response: {\n",
              "          action: 'append',\n",
              "          file: file.name,\n",
              "          data: base64,\n",
              "        },\n",
              "      };\n",
              "\n",
              "      let percentDone = fileData.byteLength === 0 ?\n",
              "          100 :\n",
              "          Math.round((position / fileData.byteLength) * 100);\n",
              "      percent.textContent = `${percentDone}% done`;\n",
              "\n",
              "    } while (position < fileData.byteLength);\n",
              "  }\n",
              "\n",
              "  // All done.\n",
              "  yield {\n",
              "    response: {\n",
              "      action: 'complete',\n",
              "    }\n",
              "  };\n",
              "}\n",
              "\n",
              "scope.google = scope.google || {};\n",
              "scope.google.colab = scope.google.colab || {};\n",
              "scope.google.colab._files = {\n",
              "  _uploadFiles,\n",
              "  _uploadFilesContinue,\n",
              "};\n",
              "})(self);\n",
              "</script> "
            ]
          },
          "metadata": {}
        },
        {
          "output_type": "stream",
          "name": "stdout",
          "text": [
            "Saving 2018.csv to 2018.csv\n",
            "Saving 2019.csv to 2019.csv\n",
            "Saving 2020.csv to 2020.csv\n",
            "Saving 2021.csv to 2021.csv\n",
            "Saving 2022.csv to 2022.csv\n"
          ]
        }
      ]
    },
    {
      "cell_type": "code",
      "source": [
        "df_2018 = pd.read_csv('2018.csv')\n",
        "df_2019 = pd.read_csv('2019.csv')\n",
        "df_2020 = pd.read_csv('2020.csv')\n",
        "df_2021 = pd.read_csv('2021.csv')\n",
        "df_2022 = pd.read_csv('2022.csv')"
      ],
      "metadata": {
        "id": "PfeLt5wAyE3H"
      },
      "id": "PfeLt5wAyE3H",
      "execution_count": 3,
      "outputs": []
    },
    {
      "cell_type": "code",
      "source": [
        "df_2018['tweet'].head()"
      ],
      "metadata": {
        "colab": {
          "base_uri": "https://localhost:8080/"
        },
        "id": "NsJBdZmCywFx",
        "outputId": "1b0ccb38-8c90-4b54-95c2-2a38ac459969"
      },
      "id": "NsJBdZmCywFx",
      "execution_count": 4,
      "outputs": [
        {
          "output_type": "execute_result",
          "data": {
            "text/plain": [
              "0    @Ben757677 @vincent13031925 Thanks Tesla owner...\n",
              "1    @Grimezsz Turns out if you take Dayquil, you e...\n",
              "2    Excited to have Larry Ellison &amp; Kathleen W...\n",
              "3                              @NutmegTheRed @Tesla Ok\n",
              "4           @westcoastbill Tesla team did a great job!\n",
              "Name: tweet, dtype: object"
            ]
          },
          "metadata": {},
          "execution_count": 4
        }
      ]
    },
    {
      "cell_type": "code",
      "execution_count": 5,
      "metadata": {
        "colab": {
          "base_uri": "https://localhost:8080/"
        },
        "id": "442e4905",
        "outputId": "3c0ac956-209e-445f-ad70-922988bf725b"
      },
      "outputs": [
        {
          "output_type": "stream",
          "name": "stderr",
          "text": [
            "[nltk_data] Downloading package stopwords to /root/nltk_data...\n",
            "[nltk_data]   Unzipping corpora/stopwords.zip.\n"
          ]
        }
      ],
      "source": [
        "# create a stopwords list\n",
        "nltk.download('stopwords')\n",
        "from nltk.corpus import stopwords\n",
        "stop_words = set(stopwords.words('english'))"
      ],
      "id": "442e4905"
    },
    {
      "cell_type": "code",
      "source": [
        "# create a list of punctuation (english & chinese)\n",
        "!pip install zhon\n",
        "import string\n",
        "from zhon.hanzi import punctuation\n",
        "punctuation_en = string.punctuation\n",
        "punctuation_cn = punctuation\n",
        "punctuationlist = list(set(punctuation_en).union(punctuation_cn))"
      ],
      "metadata": {
        "id": "nMCqzg_1hBl3",
        "colab": {
          "base_uri": "https://localhost:8080/"
        },
        "outputId": "ac8e34cd-0d35-4eac-9648-0e12aa33646b"
      },
      "id": "nMCqzg_1hBl3",
      "execution_count": 7,
      "outputs": [
        {
          "output_type": "stream",
          "name": "stdout",
          "text": [
            "Looking in indexes: https://pypi.org/simple, https://us-python.pkg.dev/colab-wheels/public/simple/\n",
            "Collecting zhon\n",
            "  Downloading zhon-1.1.5.tar.gz (99 kB)\n",
            "\u001b[K     |████████████████████████████████| 99 kB 4.1 MB/s \n",
            "\u001b[?25hBuilding wheels for collected packages: zhon\n",
            "  Building wheel for zhon (setup.py) ... \u001b[?25l\u001b[?25hdone\n",
            "  Created wheel for zhon: filename=zhon-1.1.5-py3-none-any.whl size=84321 sha256=440bbae66f674288f6b2774374c48ff794f5aa57dce77475c7bd8f476b7a9ba2\n",
            "  Stored in directory: /root/.cache/pip/wheels/c1/6a/5d/4cea6c295942b528462738b5c1bd96d7fddef29834eab57617\n",
            "Successfully built zhon\n",
            "Installing collected packages: zhon\n",
            "Successfully installed zhon-1.1.5\n"
          ]
        }
      ]
    },
    {
      "cell_type": "markdown",
      "source": [
        "Create a function to filter each document:"
      ],
      "metadata": {
        "id": "7tzDTeOf0jwa"
      },
      "id": "7tzDTeOf0jwa"
    },
    {
      "cell_type": "code",
      "source": [
        "def get_filter_doc(df):\n",
        "  list_tweet = list(df['tweet'].str.lower())\n",
        "  total_word = []\n",
        "  for value in list_tweet:\n",
        "    # delete URLs, '@' + user name, '&amp', '...' and numbers\n",
        "    value = re.sub(r'http\\S+', ' ', value).strip()\n",
        "    value = re.sub('@\\w+',' ',value).strip()\n",
        "    value = re.sub('&amp', ' ', value).strip()\n",
        "    value = re.sub('\\d+(\\.\\d+)?', ' ', value).strip()\n",
        "    value = re.sub('\\.\\.\\.', ' ', value).strip()\n",
        "      \n",
        "    # word tokenize and delete the stopwords\n",
        "    wordlist = list(word_tokenize(value))\n",
        "    wordlist = [w for w in wordlist if not w in stop_words]\n",
        "    total_word = wordlist + total_word\n",
        "\n",
        "  # lemmatizer\n",
        "  total_word = [lemmatizer.lemmatize(k) for k in total_word]\n",
        "    \n",
        "  # delete punctuation\n",
        "  for i in punctuationlist:\n",
        "    total_word = [x.replace(i,'') for x in total_word]\n",
        "\n",
        "  total_word = [ele for ele in total_word if (ele != '') and (ele != ' ')]\n",
        "  return total_word"
      ],
      "metadata": {
        "id": "q2nAhLzWTHbc"
      },
      "id": "q2nAhLzWTHbc",
      "execution_count": 8,
      "outputs": []
    },
    {
      "cell_type": "code",
      "execution_count": 9,
      "id": "45b65e6d",
      "metadata": {
        "id": "45b65e6d"
      },
      "outputs": [],
      "source": [
        "word_2018 = get_filter_doc(df_2018)\n",
        "word_2019 = get_filter_doc(df_2019)\n",
        "word_2020 = get_filter_doc(df_2020)\n",
        "word_2021 = get_filter_doc(df_2021)\n",
        "word_2022 = get_filter_doc(df_2022)"
      ]
    },
    {
      "cell_type": "markdown",
      "source": [
        "Then get a set of all words."
      ],
      "metadata": {
        "id": "ZDKH9SP044jx"
      },
      "id": "ZDKH9SP044jx"
    },
    {
      "cell_type": "code",
      "execution_count": 10,
      "id": "6cdd3d19",
      "metadata": {
        "id": "6cdd3d19"
      },
      "outputs": [],
      "source": [
        "total = set(word_2018 + word_2019 + word_2020 + word_2021 + word_2022)"
      ]
    },
    {
      "cell_type": "markdown",
      "source": [
        "We want a way to count term frequency (TF), so let's make dictionaries for each document. We'll initiate each dictionary first."
      ],
      "metadata": {
        "id": "9_MsIttE47U_"
      },
      "id": "9_MsIttE47U_"
    },
    {
      "cell_type": "code",
      "execution_count": 11,
      "id": "113a0f6c",
      "metadata": {
        "id": "113a0f6c"
      },
      "outputs": [],
      "source": [
        "wordDict18 = dict.fromkeys(total, 0) \n",
        "wordDict19 = dict.fromkeys(total, 0) \n",
        "wordDict20 = dict.fromkeys(total, 0) \n",
        "wordDict21 = dict.fromkeys(total, 0) \n",
        "wordDict22 = dict.fromkeys(total, 0) "
      ]
    },
    {
      "cell_type": "markdown",
      "source": [
        "Then create a function to loop through each document and add counts."
      ],
      "metadata": {
        "id": "-LdOOOTo5Fsz"
      },
      "id": "-LdOOOTo5Fsz"
    },
    {
      "cell_type": "code",
      "execution_count": 12,
      "id": "3407d4e2",
      "metadata": {
        "id": "3407d4e2"
      },
      "outputs": [],
      "source": [
        "def wordDict(wordDict,word_year):\n",
        "    for x in word_year:\n",
        "        wordDict[x] += 1\n",
        "    return wordDict"
      ]
    },
    {
      "cell_type": "code",
      "execution_count": 13,
      "id": "0a02695b",
      "metadata": {
        "id": "0a02695b"
      },
      "outputs": [],
      "source": [
        "wordDict18 = wordDict(wordDict18,word_2018)\n",
        "wordDict19 = wordDict(wordDict19,word_2019)\n",
        "wordDict20 = wordDict(wordDict20,word_2020)\n",
        "wordDict21 = wordDict(wordDict21,word_2021)\n",
        "wordDict22 = wordDict(wordDict22,word_2022)"
      ]
    },
    {
      "cell_type": "code",
      "source": [
        "# review the results in a dataframe\n",
        "pd.DataFrame([wordDict18, wordDict19, wordDict20, wordDict21, wordDict22])"
      ],
      "metadata": {
        "colab": {
          "base_uri": "https://localhost:8080/",
          "height": 300
        },
        "id": "tcq9pgec5hAe",
        "outputId": "401d72f9-f945-4acc-c8e8-31aa20e44d26"
      },
      "id": "tcq9pgec5hAe",
      "execution_count": 14,
      "outputs": [
        {
          "output_type": "execute_result",
          "data": {
            "text/plain": [
              "   icu  upstream  flapsfins  precautionary  rallied  ⚡️loona⚡️  literally  \\\n",
              "0    0         0          0              0        1          1         17   \n",
              "1    0         1          1              2        1          1         33   \n",
              "2    5         1          1              2        1          1         42   \n",
              "3    0         0          0              1        0          0         19   \n",
              "4    0         0          0              0        0          0          2   \n",
              "\n",
              "   ipso  singled  australia  ...  visibility  jolly  harassed  manner  \\\n",
              "0     0        0          1  ...           0      0         1       1   \n",
              "1     1        0         10  ...           1      1         1       1   \n",
              "2     2        1         12  ...           1      1         1       1   \n",
              "3     0        0          0  ...           0      0         0       0   \n",
              "4     0        0          2  ...           0      0         0       0   \n",
              "\n",
              "   axegrinding  owning  anti  jar  reorg  promised  \n",
              "0            0       0     0    1      1         1  \n",
              "1            1       1     0    4      1         2  \n",
              "2            1       1     0    4      1         3  \n",
              "3            0       0     0    0      0         1  \n",
              "4            0       0     2    0      0         0  \n",
              "\n",
              "[5 rows x 12151 columns]"
            ],
            "text/html": [
              "\n",
              "  <div id=\"df-bdefe4bc-ecf8-43f1-8bcd-f7f96a6c180a\">\n",
              "    <div class=\"colab-df-container\">\n",
              "      <div>\n",
              "<style scoped>\n",
              "    .dataframe tbody tr th:only-of-type {\n",
              "        vertical-align: middle;\n",
              "    }\n",
              "\n",
              "    .dataframe tbody tr th {\n",
              "        vertical-align: top;\n",
              "    }\n",
              "\n",
              "    .dataframe thead th {\n",
              "        text-align: right;\n",
              "    }\n",
              "</style>\n",
              "<table border=\"1\" class=\"dataframe\">\n",
              "  <thead>\n",
              "    <tr style=\"text-align: right;\">\n",
              "      <th></th>\n",
              "      <th>icu</th>\n",
              "      <th>upstream</th>\n",
              "      <th>flapsfins</th>\n",
              "      <th>precautionary</th>\n",
              "      <th>rallied</th>\n",
              "      <th>⚡️loona⚡️</th>\n",
              "      <th>literally</th>\n",
              "      <th>ipso</th>\n",
              "      <th>singled</th>\n",
              "      <th>australia</th>\n",
              "      <th>...</th>\n",
              "      <th>visibility</th>\n",
              "      <th>jolly</th>\n",
              "      <th>harassed</th>\n",
              "      <th>manner</th>\n",
              "      <th>axegrinding</th>\n",
              "      <th>owning</th>\n",
              "      <th>anti</th>\n",
              "      <th>jar</th>\n",
              "      <th>reorg</th>\n",
              "      <th>promised</th>\n",
              "    </tr>\n",
              "  </thead>\n",
              "  <tbody>\n",
              "    <tr>\n",
              "      <th>0</th>\n",
              "      <td>0</td>\n",
              "      <td>0</td>\n",
              "      <td>0</td>\n",
              "      <td>0</td>\n",
              "      <td>1</td>\n",
              "      <td>1</td>\n",
              "      <td>17</td>\n",
              "      <td>0</td>\n",
              "      <td>0</td>\n",
              "      <td>1</td>\n",
              "      <td>...</td>\n",
              "      <td>0</td>\n",
              "      <td>0</td>\n",
              "      <td>1</td>\n",
              "      <td>1</td>\n",
              "      <td>0</td>\n",
              "      <td>0</td>\n",
              "      <td>0</td>\n",
              "      <td>1</td>\n",
              "      <td>1</td>\n",
              "      <td>1</td>\n",
              "    </tr>\n",
              "    <tr>\n",
              "      <th>1</th>\n",
              "      <td>0</td>\n",
              "      <td>1</td>\n",
              "      <td>1</td>\n",
              "      <td>2</td>\n",
              "      <td>1</td>\n",
              "      <td>1</td>\n",
              "      <td>33</td>\n",
              "      <td>1</td>\n",
              "      <td>0</td>\n",
              "      <td>10</td>\n",
              "      <td>...</td>\n",
              "      <td>1</td>\n",
              "      <td>1</td>\n",
              "      <td>1</td>\n",
              "      <td>1</td>\n",
              "      <td>1</td>\n",
              "      <td>1</td>\n",
              "      <td>0</td>\n",
              "      <td>4</td>\n",
              "      <td>1</td>\n",
              "      <td>2</td>\n",
              "    </tr>\n",
              "    <tr>\n",
              "      <th>2</th>\n",
              "      <td>5</td>\n",
              "      <td>1</td>\n",
              "      <td>1</td>\n",
              "      <td>2</td>\n",
              "      <td>1</td>\n",
              "      <td>1</td>\n",
              "      <td>42</td>\n",
              "      <td>2</td>\n",
              "      <td>1</td>\n",
              "      <td>12</td>\n",
              "      <td>...</td>\n",
              "      <td>1</td>\n",
              "      <td>1</td>\n",
              "      <td>1</td>\n",
              "      <td>1</td>\n",
              "      <td>1</td>\n",
              "      <td>1</td>\n",
              "      <td>0</td>\n",
              "      <td>4</td>\n",
              "      <td>1</td>\n",
              "      <td>3</td>\n",
              "    </tr>\n",
              "    <tr>\n",
              "      <th>3</th>\n",
              "      <td>0</td>\n",
              "      <td>0</td>\n",
              "      <td>0</td>\n",
              "      <td>1</td>\n",
              "      <td>0</td>\n",
              "      <td>0</td>\n",
              "      <td>19</td>\n",
              "      <td>0</td>\n",
              "      <td>0</td>\n",
              "      <td>0</td>\n",
              "      <td>...</td>\n",
              "      <td>0</td>\n",
              "      <td>0</td>\n",
              "      <td>0</td>\n",
              "      <td>0</td>\n",
              "      <td>0</td>\n",
              "      <td>0</td>\n",
              "      <td>0</td>\n",
              "      <td>0</td>\n",
              "      <td>0</td>\n",
              "      <td>1</td>\n",
              "    </tr>\n",
              "    <tr>\n",
              "      <th>4</th>\n",
              "      <td>0</td>\n",
              "      <td>0</td>\n",
              "      <td>0</td>\n",
              "      <td>0</td>\n",
              "      <td>0</td>\n",
              "      <td>0</td>\n",
              "      <td>2</td>\n",
              "      <td>0</td>\n",
              "      <td>0</td>\n",
              "      <td>2</td>\n",
              "      <td>...</td>\n",
              "      <td>0</td>\n",
              "      <td>0</td>\n",
              "      <td>0</td>\n",
              "      <td>0</td>\n",
              "      <td>0</td>\n",
              "      <td>0</td>\n",
              "      <td>2</td>\n",
              "      <td>0</td>\n",
              "      <td>0</td>\n",
              "      <td>0</td>\n",
              "    </tr>\n",
              "  </tbody>\n",
              "</table>\n",
              "<p>5 rows × 12151 columns</p>\n",
              "</div>\n",
              "      <button class=\"colab-df-convert\" onclick=\"convertToInteractive('df-bdefe4bc-ecf8-43f1-8bcd-f7f96a6c180a')\"\n",
              "              title=\"Convert this dataframe to an interactive table.\"\n",
              "              style=\"display:none;\">\n",
              "        \n",
              "  <svg xmlns=\"http://www.w3.org/2000/svg\" height=\"24px\"viewBox=\"0 0 24 24\"\n",
              "       width=\"24px\">\n",
              "    <path d=\"M0 0h24v24H0V0z\" fill=\"none\"/>\n",
              "    <path d=\"M18.56 5.44l.94 2.06.94-2.06 2.06-.94-2.06-.94-.94-2.06-.94 2.06-2.06.94zm-11 1L8.5 8.5l.94-2.06 2.06-.94-2.06-.94L8.5 2.5l-.94 2.06-2.06.94zm10 10l.94 2.06.94-2.06 2.06-.94-2.06-.94-.94-2.06-.94 2.06-2.06.94z\"/><path d=\"M17.41 7.96l-1.37-1.37c-.4-.4-.92-.59-1.43-.59-.52 0-1.04.2-1.43.59L10.3 9.45l-7.72 7.72c-.78.78-.78 2.05 0 2.83L4 21.41c.39.39.9.59 1.41.59.51 0 1.02-.2 1.41-.59l7.78-7.78 2.81-2.81c.8-.78.8-2.07 0-2.86zM5.41 20L4 18.59l7.72-7.72 1.47 1.35L5.41 20z\"/>\n",
              "  </svg>\n",
              "      </button>\n",
              "      \n",
              "  <style>\n",
              "    .colab-df-container {\n",
              "      display:flex;\n",
              "      flex-wrap:wrap;\n",
              "      gap: 12px;\n",
              "    }\n",
              "\n",
              "    .colab-df-convert {\n",
              "      background-color: #E8F0FE;\n",
              "      border: none;\n",
              "      border-radius: 50%;\n",
              "      cursor: pointer;\n",
              "      display: none;\n",
              "      fill: #1967D2;\n",
              "      height: 32px;\n",
              "      padding: 0 0 0 0;\n",
              "      width: 32px;\n",
              "    }\n",
              "\n",
              "    .colab-df-convert:hover {\n",
              "      background-color: #E2EBFA;\n",
              "      box-shadow: 0px 1px 2px rgba(60, 64, 67, 0.3), 0px 1px 3px 1px rgba(60, 64, 67, 0.15);\n",
              "      fill: #174EA6;\n",
              "    }\n",
              "\n",
              "    [theme=dark] .colab-df-convert {\n",
              "      background-color: #3B4455;\n",
              "      fill: #D2E3FC;\n",
              "    }\n",
              "\n",
              "    [theme=dark] .colab-df-convert:hover {\n",
              "      background-color: #434B5C;\n",
              "      box-shadow: 0px 1px 3px 1px rgba(0, 0, 0, 0.15);\n",
              "      filter: drop-shadow(0px 1px 2px rgba(0, 0, 0, 0.3));\n",
              "      fill: #FFFFFF;\n",
              "    }\n",
              "  </style>\n",
              "\n",
              "      <script>\n",
              "        const buttonEl =\n",
              "          document.querySelector('#df-bdefe4bc-ecf8-43f1-8bcd-f7f96a6c180a button.colab-df-convert');\n",
              "        buttonEl.style.display =\n",
              "          google.colab.kernel.accessAllowed ? 'block' : 'none';\n",
              "\n",
              "        async function convertToInteractive(key) {\n",
              "          const element = document.querySelector('#df-bdefe4bc-ecf8-43f1-8bcd-f7f96a6c180a');\n",
              "          const dataTable =\n",
              "            await google.colab.kernel.invokeFunction('convertToInteractive',\n",
              "                                                     [key], {});\n",
              "          if (!dataTable) return;\n",
              "\n",
              "          const docLinkHtml = 'Like what you see? Visit the ' +\n",
              "            '<a target=\"_blank\" href=https://colab.research.google.com/notebooks/data_table.ipynb>data table notebook</a>'\n",
              "            + ' to learn more about interactive tables.';\n",
              "          element.innerHTML = '';\n",
              "          dataTable['output_type'] = 'display_data';\n",
              "          await google.colab.output.renderOutput(dataTable, element);\n",
              "          const docLink = document.createElement('div');\n",
              "          docLink.innerHTML = docLinkHtml;\n",
              "          element.appendChild(docLink);\n",
              "        }\n",
              "      </script>\n",
              "    </div>\n",
              "  </div>\n",
              "  "
            ]
          },
          "metadata": {},
          "execution_count": 14
        }
      ]
    },
    {
      "cell_type": "markdown",
      "id": "3d6f9219",
      "metadata": {
        "id": "3d6f9219"
      },
      "source": [
        "# 1. Compute TF for each year"
      ]
    },
    {
      "cell_type": "markdown",
      "source": [
        "Create a function to compute TF:\n",
        "1. Divide each count by the total words in the sentence\n",
        "2. Turn this into a function so we can reuse it more easily"
      ],
      "metadata": {
        "id": "5k-7VpIt-Pva"
      },
      "id": "5k-7VpIt-Pva"
    },
    {
      "cell_type": "code",
      "execution_count": 15,
      "id": "b5d0a72b",
      "metadata": {
        "id": "b5d0a72b"
      },
      "outputs": [],
      "source": [
        "def compute_TF(wordDict,word_year):\n",
        "    dict_TF = dict.fromkeys(wordDict.keys())\n",
        "    count = len(word_year)\n",
        "    for word in wordDict:\n",
        "        dict_TF[word] = wordDict[word]/float(count)\n",
        "    return dict_TF"
      ]
    },
    {
      "cell_type": "code",
      "execution_count": 16,
      "id": "46734237",
      "metadata": {
        "id": "46734237"
      },
      "outputs": [],
      "source": [
        "TF2018 = compute_TF(wordDict18,word_2018)\n",
        "TF2019 = compute_TF(wordDict19,word_2019)\n",
        "TF2020 = compute_TF(wordDict20,word_2020)\n",
        "TF2021 = compute_TF(wordDict21,word_2021)\n",
        "TF2022 = compute_TF(wordDict22,word_2022)"
      ]
    },
    {
      "cell_type": "code",
      "execution_count": 17,
      "id": "ad508fe5",
      "metadata": {
        "colab": {
          "base_uri": "https://localhost:8080/",
          "height": 300
        },
        "id": "ad508fe5",
        "outputId": "75c928eb-2780-440d-f802-eb4b3355b99e"
      },
      "outputs": [
        {
          "output_type": "execute_result",
          "data": {
            "text/plain": [
              "        icu  upstream  flapsfins  precautionary   rallied  ⚡️loona⚡️  \\\n",
              "0  0.000000  0.000000   0.000000       0.000000  0.000054   0.000054   \n",
              "1  0.000000  0.000016   0.000016       0.000032  0.000016   0.000016   \n",
              "2  0.000059  0.000012   0.000012       0.000024  0.000012   0.000012   \n",
              "3  0.000000  0.000000   0.000000       0.000051  0.000000   0.000000   \n",
              "4  0.000000  0.000000   0.000000       0.000000  0.000000   0.000000   \n",
              "\n",
              "   literally      ipso   singled  australia  ...  visibility     jolly  \\\n",
              "0   0.000923  0.000000  0.000000   0.000054  ...    0.000000  0.000000   \n",
              "1   0.000533  0.000016  0.000000   0.000161  ...    0.000016  0.000016   \n",
              "2   0.000499  0.000024  0.000012   0.000143  ...    0.000012  0.000012   \n",
              "3   0.000976  0.000000  0.000000   0.000000  ...    0.000000  0.000000   \n",
              "4   0.000378  0.000000  0.000000   0.000378  ...    0.000000  0.000000   \n",
              "\n",
              "   harassed    manner  axegrinding    owning      anti       jar     reorg  \\\n",
              "0  0.000054  0.000054     0.000000  0.000000  0.000000  0.000054  0.000054   \n",
              "1  0.000016  0.000016     0.000016  0.000016  0.000000  0.000065  0.000016   \n",
              "2  0.000012  0.000012     0.000012  0.000012  0.000000  0.000048  0.000012   \n",
              "3  0.000000  0.000000     0.000000  0.000000  0.000000  0.000000  0.000000   \n",
              "4  0.000000  0.000000     0.000000  0.000000  0.000378  0.000000  0.000000   \n",
              "\n",
              "   promised  \n",
              "0  0.000054  \n",
              "1  0.000032  \n",
              "2  0.000036  \n",
              "3  0.000051  \n",
              "4  0.000000  \n",
              "\n",
              "[5 rows x 12151 columns]"
            ],
            "text/html": [
              "\n",
              "  <div id=\"df-bf9b70b0-30d0-4ec6-93e4-2a267885c3d5\">\n",
              "    <div class=\"colab-df-container\">\n",
              "      <div>\n",
              "<style scoped>\n",
              "    .dataframe tbody tr th:only-of-type {\n",
              "        vertical-align: middle;\n",
              "    }\n",
              "\n",
              "    .dataframe tbody tr th {\n",
              "        vertical-align: top;\n",
              "    }\n",
              "\n",
              "    .dataframe thead th {\n",
              "        text-align: right;\n",
              "    }\n",
              "</style>\n",
              "<table border=\"1\" class=\"dataframe\">\n",
              "  <thead>\n",
              "    <tr style=\"text-align: right;\">\n",
              "      <th></th>\n",
              "      <th>icu</th>\n",
              "      <th>upstream</th>\n",
              "      <th>flapsfins</th>\n",
              "      <th>precautionary</th>\n",
              "      <th>rallied</th>\n",
              "      <th>⚡️loona⚡️</th>\n",
              "      <th>literally</th>\n",
              "      <th>ipso</th>\n",
              "      <th>singled</th>\n",
              "      <th>australia</th>\n",
              "      <th>...</th>\n",
              "      <th>visibility</th>\n",
              "      <th>jolly</th>\n",
              "      <th>harassed</th>\n",
              "      <th>manner</th>\n",
              "      <th>axegrinding</th>\n",
              "      <th>owning</th>\n",
              "      <th>anti</th>\n",
              "      <th>jar</th>\n",
              "      <th>reorg</th>\n",
              "      <th>promised</th>\n",
              "    </tr>\n",
              "  </thead>\n",
              "  <tbody>\n",
              "    <tr>\n",
              "      <th>0</th>\n",
              "      <td>0.000000</td>\n",
              "      <td>0.000000</td>\n",
              "      <td>0.000000</td>\n",
              "      <td>0.000000</td>\n",
              "      <td>0.000054</td>\n",
              "      <td>0.000054</td>\n",
              "      <td>0.000923</td>\n",
              "      <td>0.000000</td>\n",
              "      <td>0.000000</td>\n",
              "      <td>0.000054</td>\n",
              "      <td>...</td>\n",
              "      <td>0.000000</td>\n",
              "      <td>0.000000</td>\n",
              "      <td>0.000054</td>\n",
              "      <td>0.000054</td>\n",
              "      <td>0.000000</td>\n",
              "      <td>0.000000</td>\n",
              "      <td>0.000000</td>\n",
              "      <td>0.000054</td>\n",
              "      <td>0.000054</td>\n",
              "      <td>0.000054</td>\n",
              "    </tr>\n",
              "    <tr>\n",
              "      <th>1</th>\n",
              "      <td>0.000000</td>\n",
              "      <td>0.000016</td>\n",
              "      <td>0.000016</td>\n",
              "      <td>0.000032</td>\n",
              "      <td>0.000016</td>\n",
              "      <td>0.000016</td>\n",
              "      <td>0.000533</td>\n",
              "      <td>0.000016</td>\n",
              "      <td>0.000000</td>\n",
              "      <td>0.000161</td>\n",
              "      <td>...</td>\n",
              "      <td>0.000016</td>\n",
              "      <td>0.000016</td>\n",
              "      <td>0.000016</td>\n",
              "      <td>0.000016</td>\n",
              "      <td>0.000016</td>\n",
              "      <td>0.000016</td>\n",
              "      <td>0.000000</td>\n",
              "      <td>0.000065</td>\n",
              "      <td>0.000016</td>\n",
              "      <td>0.000032</td>\n",
              "    </tr>\n",
              "    <tr>\n",
              "      <th>2</th>\n",
              "      <td>0.000059</td>\n",
              "      <td>0.000012</td>\n",
              "      <td>0.000012</td>\n",
              "      <td>0.000024</td>\n",
              "      <td>0.000012</td>\n",
              "      <td>0.000012</td>\n",
              "      <td>0.000499</td>\n",
              "      <td>0.000024</td>\n",
              "      <td>0.000012</td>\n",
              "      <td>0.000143</td>\n",
              "      <td>...</td>\n",
              "      <td>0.000012</td>\n",
              "      <td>0.000012</td>\n",
              "      <td>0.000012</td>\n",
              "      <td>0.000012</td>\n",
              "      <td>0.000012</td>\n",
              "      <td>0.000012</td>\n",
              "      <td>0.000000</td>\n",
              "      <td>0.000048</td>\n",
              "      <td>0.000012</td>\n",
              "      <td>0.000036</td>\n",
              "    </tr>\n",
              "    <tr>\n",
              "      <th>3</th>\n",
              "      <td>0.000000</td>\n",
              "      <td>0.000000</td>\n",
              "      <td>0.000000</td>\n",
              "      <td>0.000051</td>\n",
              "      <td>0.000000</td>\n",
              "      <td>0.000000</td>\n",
              "      <td>0.000976</td>\n",
              "      <td>0.000000</td>\n",
              "      <td>0.000000</td>\n",
              "      <td>0.000000</td>\n",
              "      <td>...</td>\n",
              "      <td>0.000000</td>\n",
              "      <td>0.000000</td>\n",
              "      <td>0.000000</td>\n",
              "      <td>0.000000</td>\n",
              "      <td>0.000000</td>\n",
              "      <td>0.000000</td>\n",
              "      <td>0.000000</td>\n",
              "      <td>0.000000</td>\n",
              "      <td>0.000000</td>\n",
              "      <td>0.000051</td>\n",
              "    </tr>\n",
              "    <tr>\n",
              "      <th>4</th>\n",
              "      <td>0.000000</td>\n",
              "      <td>0.000000</td>\n",
              "      <td>0.000000</td>\n",
              "      <td>0.000000</td>\n",
              "      <td>0.000000</td>\n",
              "      <td>0.000000</td>\n",
              "      <td>0.000378</td>\n",
              "      <td>0.000000</td>\n",
              "      <td>0.000000</td>\n",
              "      <td>0.000378</td>\n",
              "      <td>...</td>\n",
              "      <td>0.000000</td>\n",
              "      <td>0.000000</td>\n",
              "      <td>0.000000</td>\n",
              "      <td>0.000000</td>\n",
              "      <td>0.000000</td>\n",
              "      <td>0.000000</td>\n",
              "      <td>0.000378</td>\n",
              "      <td>0.000000</td>\n",
              "      <td>0.000000</td>\n",
              "      <td>0.000000</td>\n",
              "    </tr>\n",
              "  </tbody>\n",
              "</table>\n",
              "<p>5 rows × 12151 columns</p>\n",
              "</div>\n",
              "      <button class=\"colab-df-convert\" onclick=\"convertToInteractive('df-bf9b70b0-30d0-4ec6-93e4-2a267885c3d5')\"\n",
              "              title=\"Convert this dataframe to an interactive table.\"\n",
              "              style=\"display:none;\">\n",
              "        \n",
              "  <svg xmlns=\"http://www.w3.org/2000/svg\" height=\"24px\"viewBox=\"0 0 24 24\"\n",
              "       width=\"24px\">\n",
              "    <path d=\"M0 0h24v24H0V0z\" fill=\"none\"/>\n",
              "    <path d=\"M18.56 5.44l.94 2.06.94-2.06 2.06-.94-2.06-.94-.94-2.06-.94 2.06-2.06.94zm-11 1L8.5 8.5l.94-2.06 2.06-.94-2.06-.94L8.5 2.5l-.94 2.06-2.06.94zm10 10l.94 2.06.94-2.06 2.06-.94-2.06-.94-.94-2.06-.94 2.06-2.06.94z\"/><path d=\"M17.41 7.96l-1.37-1.37c-.4-.4-.92-.59-1.43-.59-.52 0-1.04.2-1.43.59L10.3 9.45l-7.72 7.72c-.78.78-.78 2.05 0 2.83L4 21.41c.39.39.9.59 1.41.59.51 0 1.02-.2 1.41-.59l7.78-7.78 2.81-2.81c.8-.78.8-2.07 0-2.86zM5.41 20L4 18.59l7.72-7.72 1.47 1.35L5.41 20z\"/>\n",
              "  </svg>\n",
              "      </button>\n",
              "      \n",
              "  <style>\n",
              "    .colab-df-container {\n",
              "      display:flex;\n",
              "      flex-wrap:wrap;\n",
              "      gap: 12px;\n",
              "    }\n",
              "\n",
              "    .colab-df-convert {\n",
              "      background-color: #E8F0FE;\n",
              "      border: none;\n",
              "      border-radius: 50%;\n",
              "      cursor: pointer;\n",
              "      display: none;\n",
              "      fill: #1967D2;\n",
              "      height: 32px;\n",
              "      padding: 0 0 0 0;\n",
              "      width: 32px;\n",
              "    }\n",
              "\n",
              "    .colab-df-convert:hover {\n",
              "      background-color: #E2EBFA;\n",
              "      box-shadow: 0px 1px 2px rgba(60, 64, 67, 0.3), 0px 1px 3px 1px rgba(60, 64, 67, 0.15);\n",
              "      fill: #174EA6;\n",
              "    }\n",
              "\n",
              "    [theme=dark] .colab-df-convert {\n",
              "      background-color: #3B4455;\n",
              "      fill: #D2E3FC;\n",
              "    }\n",
              "\n",
              "    [theme=dark] .colab-df-convert:hover {\n",
              "      background-color: #434B5C;\n",
              "      box-shadow: 0px 1px 3px 1px rgba(0, 0, 0, 0.15);\n",
              "      filter: drop-shadow(0px 1px 2px rgba(0, 0, 0, 0.3));\n",
              "      fill: #FFFFFF;\n",
              "    }\n",
              "  </style>\n",
              "\n",
              "      <script>\n",
              "        const buttonEl =\n",
              "          document.querySelector('#df-bf9b70b0-30d0-4ec6-93e4-2a267885c3d5 button.colab-df-convert');\n",
              "        buttonEl.style.display =\n",
              "          google.colab.kernel.accessAllowed ? 'block' : 'none';\n",
              "\n",
              "        async function convertToInteractive(key) {\n",
              "          const element = document.querySelector('#df-bf9b70b0-30d0-4ec6-93e4-2a267885c3d5');\n",
              "          const dataTable =\n",
              "            await google.colab.kernel.invokeFunction('convertToInteractive',\n",
              "                                                     [key], {});\n",
              "          if (!dataTable) return;\n",
              "\n",
              "          const docLinkHtml = 'Like what you see? Visit the ' +\n",
              "            '<a target=\"_blank\" href=https://colab.research.google.com/notebooks/data_table.ipynb>data table notebook</a>'\n",
              "            + ' to learn more about interactive tables.';\n",
              "          element.innerHTML = '';\n",
              "          dataTable['output_type'] = 'display_data';\n",
              "          await google.colab.output.renderOutput(dataTable, element);\n",
              "          const docLink = document.createElement('div');\n",
              "          docLink.innerHTML = docLinkHtml;\n",
              "          element.appendChild(docLink);\n",
              "        }\n",
              "      </script>\n",
              "    </div>\n",
              "  </div>\n",
              "  "
            ]
          },
          "metadata": {},
          "execution_count": 17
        }
      ],
      "source": [
        "# review the results in dataframe\n",
        "pd.DataFrame([TF2018, TF2019, TF2020, TF2021, TF2022])"
      ]
    },
    {
      "cell_type": "markdown",
      "id": "1fb6cc49",
      "metadata": {
        "id": "1fb6cc49"
      },
      "source": [
        "# 2. Top 10 words for each year"
      ]
    },
    {
      "cell_type": "code",
      "execution_count": 18,
      "id": "283471fd",
      "metadata": {
        "colab": {
          "base_uri": "https://localhost:8080/"
        },
        "id": "283471fd",
        "outputId": "58e8bb46-3a37-420f-d83e-12fb3d0ca1d7"
      },
      "outputs": [
        {
          "output_type": "execute_result",
          "data": {
            "text/plain": [
              "[('tesla', 289),\n",
              " ('car', 175),\n",
              " ('yes', 108),\n",
              " ('good', 101),\n",
              " ('model', 100),\n",
              " ('like', 96),\n",
              " ('year', 83),\n",
              " ('make', 78),\n",
              " ('would', 77),\n",
              " ('people', 74)]"
            ]
          },
          "metadata": {},
          "execution_count": 18
        }
      ],
      "source": [
        "# 2018\n",
        "TF2018_wf = Counter(wordDict18).most_common()\n",
        "TF2018_wf[:10]"
      ]
    },
    {
      "cell_type": "code",
      "execution_count": 19,
      "id": "066639ec",
      "metadata": {
        "colab": {
          "base_uri": "https://localhost:8080/"
        },
        "id": "066639ec",
        "outputId": "63721fd0-3111-4a47-d7bc-d11c861a38c8"
      },
      "outputs": [
        {
          "output_type": "execute_result",
          "data": {
            "text/plain": [
              "[('tesla', 838),\n",
              " ('car', 481),\n",
              " ('yes', 393),\n",
              " ('model', 376),\n",
              " ('good', 359),\n",
              " ('like', 320),\n",
              " ('year', 287),\n",
              " ('would', 285),\n",
              " ('time', 267),\n",
              " ('s', 253)]"
            ]
          },
          "metadata": {},
          "execution_count": 19
        }
      ],
      "source": [
        "# 2019\n",
        "TF2019_wf = Counter(wordDict19).most_common()\n",
        "TF2019_wf[:10]"
      ]
    },
    {
      "cell_type": "code",
      "execution_count": 20,
      "id": "89cd4760",
      "metadata": {
        "colab": {
          "base_uri": "https://localhost:8080/"
        },
        "id": "89cd4760",
        "outputId": "d0c18f28-9d3f-4af4-e9db-6a7222767397"
      },
      "outputs": [
        {
          "output_type": "execute_result",
          "data": {
            "text/plain": [
              "[('tesla', 1047),\n",
              " ('yes', 554),\n",
              " ('car', 550),\n",
              " ('good', 472),\n",
              " ('model', 406),\n",
              " ('like', 399),\n",
              " ('year', 388),\n",
              " ('would', 381),\n",
              " ('great', 370),\n",
              " ('time', 345)]"
            ]
          },
          "metadata": {},
          "execution_count": 20
        }
      ],
      "source": [
        "# 2020\n",
        "TF2020_wf = Counter(wordDict20).most_common()\n",
        "TF2020_wf[:10]"
      ]
    },
    {
      "cell_type": "code",
      "execution_count": 21,
      "id": "2bf48452",
      "metadata": {
        "colab": {
          "base_uri": "https://localhost:8080/"
        },
        "id": "2bf48452",
        "outputId": "603264a1-773d-4d82-a642-cdd7cb8f7e30"
      },
      "outputs": [
        {
          "output_type": "execute_result",
          "data": {
            "text/plain": [
              "[('tesla', 213),\n",
              " ('good', 104),\n",
              " ('year', 104),\n",
              " ('car', 103),\n",
              " ('great', 102),\n",
              " ('time', 102),\n",
              " ('🤣🤣', 94),\n",
              " ('much', 93),\n",
              " ('would', 89),\n",
              " ('like', 89)]"
            ]
          },
          "metadata": {},
          "execution_count": 21
        }
      ],
      "source": [
        "# 2021\n",
        "TF2021_wf = Counter(wordDict21).most_common()\n",
        "TF2021_wf[:10]"
      ]
    },
    {
      "cell_type": "code",
      "source": [
        "# 2022\n",
        "TF2022_wf = Counter(wordDict22).most_common()\n",
        "TF2022_wf[:10]"
      ],
      "metadata": {
        "colab": {
          "base_uri": "https://localhost:8080/"
        },
        "id": "KvTmTUWLZ8Wb",
        "outputId": "6734a189-6f4c-4993-a918-fe071de0260e"
      },
      "id": "KvTmTUWLZ8Wb",
      "execution_count": 22,
      "outputs": [
        {
          "output_type": "execute_result",
          "data": {
            "text/plain": [
              "[('tesla', 62),\n",
              " ('🤣', 46),\n",
              " ('car', 42),\n",
              " ('people', 34),\n",
              " ('would', 32),\n",
              " ('yes', 32),\n",
              " ('one', 30),\n",
              " ('good', 28),\n",
              " ('starlink', 28),\n",
              " ('time', 28)]"
            ]
          },
          "metadata": {},
          "execution_count": 22
        }
      ]
    },
    {
      "cell_type": "markdown",
      "id": "792a90a6",
      "metadata": {
        "id": "792a90a6"
      },
      "source": [
        "# 3. Histogram of word frequencies\n",
        "Show the top 20 words."
      ]
    },
    {
      "cell_type": "code",
      "execution_count": 25,
      "id": "ccca82af",
      "metadata": {
        "colab": {
          "base_uri": "https://localhost:8080/",
          "height": 612
        },
        "id": "ccca82af",
        "outputId": "ea4b2d99-cc8c-4e0a-e9c7-0c0a4887ef0d"
      },
      "outputs": [
        {
          "output_type": "execute_result",
          "data": {
            "text/plain": [
              "<BarContainer object of 20 artists>"
            ]
          },
          "metadata": {},
          "execution_count": 25
        },
        {
          "output_type": "display_data",
          "data": {
            "text/plain": [
              "<Figure size 1080x720 with 1 Axes>"
            ],
            "image/png": "[encoded data removed]"
          },
          "metadata": {}
        }
      ],
      "source": [
        "# 2018\n",
        "plt.figure(figsize = (15,10))\n",
        "plt.bar(pd.DataFrame(TF2018_wf)[0][:20], pd.DataFrame(TF2018_wf)[1][:20])"
      ]
    },
    {
      "cell_type": "code",
      "execution_count": 26,
      "id": "f8b03539",
      "metadata": {
        "colab": {
          "base_uri": "https://localhost:8080/",
          "height": 612
        },
        "id": "f8b03539",
        "outputId": "826fbae7-d0f0-4d25-9827-97ce493c79b6"
      },
      "outputs": [
        {
          "output_type": "execute_result",
          "data": {
            "text/plain": [
              "<BarContainer object of 20 artists>"
            ]
          },
          "metadata": {},
          "execution_count": 26
        },
        {
          "output_type": "display_data",
          "data": {
            "text/plain": [
              "<Figure size 1080x720 with 1 Axes>"
            ],
            "image/png": "[encoded data removed]"
          },
          "metadata": {}
        }
      ],
      "source": [
        "# 2019\n",
        "plt.figure(figsize = (15,10))\n",
        "plt.bar(pd.DataFrame(TF2019_wf)[0][:20], pd.DataFrame(TF2019_wf)[1][:20])"
      ]
    },
    {
      "cell_type": "code",
      "execution_count": 27,
      "id": "fc0f6d05",
      "metadata": {
        "colab": {
          "base_uri": "https://localhost:8080/",
          "height": 612
        },
        "id": "fc0f6d05",
        "outputId": "5ad5bed5-5aaf-409b-e70b-5a66f700e690"
      },
      "outputs": [
        {
          "output_type": "execute_result",
          "data": {
            "text/plain": [
              "<BarContainer object of 20 artists>"
            ]
          },
          "metadata": {},
          "execution_count": 27
        },
        {
          "output_type": "display_data",
          "data": {
            "text/plain": [
              "<Figure size 1080x720 with 1 Axes>"
            ],
            "image/png": "[encoded data removed]"
          },
          "metadata": {}
        }
      ],
      "source": [
        "# 2020\n",
        "plt.figure(figsize = (15,10))\n",
        "plt.bar(pd.DataFrame(TF2020_wf)[0][:20], pd.DataFrame(TF2020_wf)[1][:20])"
      ]
    },
    {
      "cell_type": "code",
      "execution_count": 28,
      "id": "b32c24c8",
      "metadata": {
        "colab": {
          "base_uri": "https://localhost:8080/",
          "height": 683
        },
        "id": "b32c24c8",
        "outputId": "b608d01c-559e-421f-afd7-1238a49e6f13"
      },
      "outputs": [
        {
          "output_type": "execute_result",
          "data": {
            "text/plain": [
              "<BarContainer object of 20 artists>"
            ]
          },
          "metadata": {},
          "execution_count": 28
        },
        {
          "output_type": "stream",
          "name": "stderr",
          "text": [
            "/usr/local/lib/python3.8/dist-packages/matplotlib/backends/backend_agg.py:214: RuntimeWarning: Glyph 129315 missing from current font.\n",
            "  font.set_text(s, 0.0, flags=flags)\n",
            "/usr/local/lib/python3.8/dist-packages/matplotlib/backends/backend_agg.py:183: RuntimeWarning: Glyph 129315 missing from current font.\n",
            "  font.set_text(s, 0, flags=flags)\n"
          ]
        },
        {
          "output_type": "display_data",
          "data": {
            "text/plain": [
              "<Figure size 1080x720 with 1 Axes>"
            ],
            "image/png": "[encoded data removed]"
          },
          "metadata": {}
        }
      ],
      "source": [
        "# 2021\n",
        "plt.figure(figsize = (15,10))\n",
        "plt.bar(pd.DataFrame(TF2021_wf)[0][:20], pd.DataFrame(TF2021_wf)[1][:20])"
      ]
    },
    {
      "cell_type": "code",
      "execution_count": 29,
      "id": "3aa119bc",
      "metadata": {
        "colab": {
          "base_uri": "https://localhost:8080/",
          "height": 683
        },
        "id": "3aa119bc",
        "outputId": "808cf622-3a40-4004-8f04-943aeb7f8dc7"
      },
      "outputs": [
        {
          "output_type": "execute_result",
          "data": {
            "text/plain": [
              "<BarContainer object of 20 artists>"
            ]
          },
          "metadata": {},
          "execution_count": 29
        },
        {
          "output_type": "stream",
          "name": "stderr",
          "text": [
            "/usr/local/lib/python3.8/dist-packages/matplotlib/backends/backend_agg.py:214: RuntimeWarning: Glyph 128175 missing from current font.\n",
            "  font.set_text(s, 0.0, flags=flags)\n",
            "/usr/local/lib/python3.8/dist-packages/matplotlib/backends/backend_agg.py:183: RuntimeWarning: Glyph 128175 missing from current font.\n",
            "  font.set_text(s, 0, flags=flags)\n"
          ]
        },
        {
          "output_type": "display_data",
          "data": {
            "text/plain": [
              "<Figure size 1080x720 with 1 Axes>"
            ],
            "image/png": "[encoded data removed]"
          },
          "metadata": {}
        }
      ],
      "source": [
        "# 2022\n",
        "plt.figure(figsize = (15,10))\n",
        "plt.bar(pd.DataFrame(TF2022_wf)[0][:20], pd.DataFrame(TF2022_wf)[1][:20])"
      ]
    },
    {
      "cell_type": "markdown",
      "source": [
        "# 4. Zipf’s law"
      ],
      "metadata": {
        "id": "aUMpcr5Vmuqk"
      },
      "id": "aUMpcr5Vmuqk"
    },
    {
      "cell_type": "markdown",
      "source": [
        "Create a function to calculate the rank and frequency and plot the graph for each year."
      ],
      "metadata": {
        "id": "6UkPbFAVNGak"
      },
      "id": "6UkPbFAVNGak"
    },
    {
      "cell_type": "code",
      "source": [
        "def plotzipfs(document):\n",
        "  document = Counter(document).most_common()\n",
        "  df = pd.DataFrame(document).reset_index()\n",
        "  df['index'] = df['index'] + 1\n",
        "  df['frequency'] = 1/df['index']\n",
        "  plt.figure(figsize = (8,8))\n",
        "  plt.plot(np.log(df['index']), np.log(df['frequency']), color = 'green', label = 'slope = -1')\n",
        "  plt.plot(np.log(df['index']), np.log(df[1]/len(df)), color = 'blue', label = 'rank vs frequency')\n",
        "  plt.xlabel('log(Rank)')\n",
        "  plt.ylabel('log(Frequency)')\n",
        "  plt.legend()\n",
        "  plt.show()"
      ],
      "metadata": {
        "id": "7yIQvIYlmt-H"
      },
      "id": "7yIQvIYlmt-H",
      "execution_count": 54,
      "outputs": []
    },
    {
      "cell_type": "code",
      "source": [
        "print('2018:')\n",
        "plotzipfs(word_2018)"
      ],
      "metadata": {
        "colab": {
          "base_uri": "https://localhost:8080/",
          "height": 520
        },
        "id": "Z7p5s-qhNJoh",
        "outputId": "7064bbc5-c9fa-48e4-f8d2-2e94cae534cc"
      },
      "id": "Z7p5s-qhNJoh",
      "execution_count": 55,
      "outputs": [
        {
          "output_type": "stream",
          "name": "stdout",
          "text": [
            "2018:\n"
          ]
        },
        {
          "output_type": "display_data",
          "data": {
            "text/plain": [
              "<Figure size 576x576 with 1 Axes>"
            ],
            "image/png": "[encoded data removed]"
          },
          "metadata": {}
        }
      ]
    },
    {
      "cell_type": "code",
      "source": [
        "print('2019:')\n",
        "plotzipfs(word_2019)"
      ],
      "metadata": {
        "colab": {
          "base_uri": "https://localhost:8080/",
          "height": 520
        },
        "id": "Ajckpka1NW85",
        "outputId": "d0c4e6e4-53ec-430f-9f05-73c297cc6b86"
      },
      "id": "Ajckpka1NW85",
      "execution_count": 56,
      "outputs": [
        {
          "output_type": "stream",
          "name": "stdout",
          "text": [
            "2019:\n"
          ]
        },
        {
          "output_type": "display_data",
          "data": {
            "text/plain": [
              "<Figure size 576x576 with 1 Axes>"
            ],
            "image/png": "[encoded data removed]"
          },
          "metadata": {}
        }
      ]
    },
    {
      "cell_type": "code",
      "source": [
        "print('2020:')\n",
        "plotzipfs(word_2020)"
      ],
      "metadata": {
        "colab": {
          "base_uri": "https://localhost:8080/",
          "height": 520
        },
        "id": "_dhDitnANawf",
        "outputId": "08c64f7e-b2af-40c0-fa3d-0d4964e1d533"
      },
      "id": "_dhDitnANawf",
      "execution_count": 57,
      "outputs": [
        {
          "output_type": "stream",
          "name": "stdout",
          "text": [
            "2020:\n"
          ]
        },
        {
          "output_type": "display_data",
          "data": {
            "text/plain": [
              "<Figure size 576x576 with 1 Axes>"
            ],
            "image/png": "[encoded data removed]"
          },
          "metadata": {}
        }
      ]
    },
    {
      "cell_type": "code",
      "source": [
        "print('2021:')\n",
        "plotzipfs(word_2021)"
      ],
      "metadata": {
        "colab": {
          "base_uri": "https://localhost:8080/",
          "height": 520
        },
        "id": "a0q5QGqLNddj",
        "outputId": "d5f9fb7c-13d3-47d9-896b-91392dbe462b"
      },
      "id": "a0q5QGqLNddj",
      "execution_count": 58,
      "outputs": [
        {
          "output_type": "stream",
          "name": "stdout",
          "text": [
            "2021:\n"
          ]
        },
        {
          "output_type": "display_data",
          "data": {
            "text/plain": [
              "<Figure size 576x576 with 1 Axes>"
            ],
            "image/png": "[encoded data removed]"
          },
          "metadata": {}
        }
      ]
    },
    {
      "cell_type": "code",
      "source": [
        "print('2022:')\n",
        "plotzipfs(word_2022)"
      ],
      "metadata": {
        "colab": {
          "base_uri": "https://localhost:8080/",
          "height": 520
        },
        "id": "pIupcpOANfRp",
        "outputId": "4f61198a-a491-4216-cb63-110425f9ae07"
      },
      "id": "pIupcpOANfRp",
      "execution_count": 59,
      "outputs": [
        {
          "output_type": "stream",
          "name": "stdout",
          "text": [
            "2022:\n"
          ]
        },
        {
          "output_type": "display_data",
          "data": {
            "text/plain": [
              "<Figure size 576x576 with 1 Axes>"
            ],
            "image/png": "[encoded data removed]"
          },
          "metadata": {}
        }
      ]
    },
    {
      "cell_type": "markdown",
      "source": [
        "Plot log(rank) on the x-axis and log(frequency) on the y axis.  \n",
        "If Zipf's law holds we should see a line with slope -1.  \n",
        "According to the graphs above, we can find that the log-log plots have a scope nearly equal to -1 which allows the Zipf's law."
      ],
      "metadata": {
        "id": "TnTscxkLNiqo"
      },
      "id": "TnTscxkLNiqo"
    },
    {
      "cell_type": "markdown",
      "id": "7f4b7f94",
      "metadata": {
        "id": "7f4b7f94"
      },
      "source": [
        "# 5. TF-IDF to find the top 5 important words for each year "
      ]
    },
    {
      "cell_type": "markdown",
      "source": [
        "Create a function to calculate IDF."
      ],
      "metadata": {
        "id": "9im4LNRCOdMc"
      },
      "id": "9im4LNRCOdMc"
    },
    {
      "cell_type": "code",
      "execution_count": 46,
      "id": "2faec0d9",
      "metadata": {
        "id": "2faec0d9"
      },
      "outputs": [],
      "source": [
        "def compute_IDF(doclist):\n",
        "    N = len(doclist)\n",
        "    dictidf = {}\n",
        "    dictdf = dict.fromkeys(doclist[0].keys(),0)\n",
        "    for key in dictdf:\n",
        "        for doc in doclist:\n",
        "            if doc[key]>0:\n",
        "                dictdf[key]+=1\n",
        "    for key,value in dictdf.items():\n",
        "        dictidf[key] = math.log10((N + 1)/ (float(value) + 1))\n",
        "    return dictidf"
      ]
    },
    {
      "cell_type": "code",
      "execution_count": 47,
      "id": "f01b806a",
      "metadata": {
        "id": "f01b806a"
      },
      "outputs": [],
      "source": [
        "IDF = compute_IDF([wordDict18,wordDict19,wordDict20,wordDict21,wordDict22])"
      ]
    },
    {
      "cell_type": "markdown",
      "source": [
        "Then create a function to compute TF-IDF."
      ],
      "metadata": {
        "id": "FVWwHEtVO1yw"
      },
      "id": "FVWwHEtVO1yw"
    },
    {
      "cell_type": "code",
      "execution_count": 48,
      "id": "a96fbba0",
      "metadata": {
        "id": "a96fbba0"
      },
      "outputs": [],
      "source": [
        "def compute_tfidf(idf,tf):\n",
        "    tfidf={}\n",
        "    for key,value in idf.items():\n",
        "        tfidf[key] = value*tf[key]\n",
        "    return tfidf "
      ]
    },
    {
      "cell_type": "code",
      "execution_count": 49,
      "id": "beecd733",
      "metadata": {
        "colab": {
          "base_uri": "https://localhost:8080/",
          "height": 106
        },
        "id": "beecd733",
        "outputId": "ada09332-edea-4516-d3e6-18ab48d7238e"
      },
      "outputs": [
        {
          "output_type": "display_data",
          "data": {
            "text/plain": [
              "[('w', 0.00022943486521912867),\n",
              " ('flamethrower', 0.00019119572101594054),\n",
              " ('really', 0.00016764758935164864),\n",
              " ('dual', 0.0001338370047111584),\n",
              " ('cost', 0.00013325834025387456)]"
            ]
          },
          "metadata": {}
        }
      ],
      "source": [
        "# 2018\n",
        "tfidf_18 = compute_tfidf(IDF, TF2018)\n",
        "top5words_18 = Counter(tfidf_18).most_common()[:5]\n",
        "display(top5words_18)"
      ]
    },
    {
      "cell_type": "code",
      "execution_count": 50,
      "id": "c243f1e8",
      "metadata": {
        "colab": {
          "base_uri": "https://localhost:8080/",
          "height": 106
        },
        "id": "c243f1e8",
        "outputId": "a242d94a-8a24-436d-be84-13add158c803"
      },
      "outputs": [
        {
          "output_type": "display_data",
          "data": {
            "text/plain": [
              "[('nt', 0.0006426480726445105),\n",
              " ('s', 0.0003234966774868243),\n",
              " ('w', 0.0002331731944993357),\n",
              " ('really', 0.00016366630323444073),\n",
              " ('space', 0.00014576530131817377)]"
            ]
          },
          "metadata": {}
        }
      ],
      "source": [
        "# 2019\n",
        "tfidf_19 = compute_tfidf(IDF,TF2019)\n",
        "top5words_19 = Counter(tfidf_19).most_common()[:5]\n",
        "display(top5words_19)"
      ]
    },
    {
      "cell_type": "code",
      "execution_count": 51,
      "id": "95779a00",
      "metadata": {
        "colab": {
          "base_uri": "https://localhost:8080/",
          "height": 106
        },
        "id": "95779a00",
        "outputId": "4a5186d2-47a4-4080-f143-163851b10871"
      },
      "outputs": [
        {
          "output_type": "display_data",
          "data": {
            "text/plain": [
              "[('nt', 0.00047282931014036334),\n",
              " ('s', 0.00023989470626426424),\n",
              " ('ventilator', 0.0001984060726316512),\n",
              " ('sn', 0.00018411052784226536),\n",
              " ('w', 0.00017155753730756544)]"
            ]
          },
          "metadata": {}
        }
      ],
      "source": [
        "# 2020\n",
        "tfidf_20= compute_tfidf(IDF,TF2020)\n",
        "top5words_20 = Counter(tfidf_20).most_common()[:5]\n",
        "display(top5words_20)"
      ]
    },
    {
      "cell_type": "code",
      "execution_count": 52,
      "id": "1148424d",
      "metadata": {
        "colab": {
          "base_uri": "https://localhost:8080/",
          "height": 106
        },
        "id": "1148424d",
        "outputId": "4b3ee4f7-1ec9-4271-c7af-b4d03de07fa8"
      },
      "outputs": [
        {
          "output_type": "display_data",
          "data": {
            "text/plain": [
              "[('doge', 0.0008039009744518808),\n",
              " ('🤣🤣', 0.0003822430735659785),\n",
              " ('doo', 0.0003675441054229117),\n",
              " ('starbase', 0.00029373304835741797),\n",
              " ('ship', 0.00019518795245922305)]"
            ]
          },
          "metadata": {}
        }
      ],
      "source": [
        "# 2021\n",
        "tfidf_21= compute_tfidf(IDF,TF2021)\n",
        "top5words_21 = Counter(tfidf_21).most_common()[:5]\n",
        "display(top5words_21)"
      ]
    },
    {
      "cell_type": "code",
      "execution_count": 53,
      "id": "97393f66",
      "metadata": {
        "colab": {
          "base_uri": "https://localhost:8080/",
          "height": 106
        },
        "id": "97393f66",
        "outputId": "9b7a4f75-3471-4946-dacd-4a127c186b90"
      },
      "outputs": [
        {
          "output_type": "display_data",
          "data": {
            "text/plain": [
              "[('💯', 0.0005991763068057207),\n",
              " ('tonga', 0.0005411583229334545),\n",
              " ('vaccination', 0.00036077221528896974),\n",
              " ('extraordinary', 0.00036077221528896974),\n",
              " ('manganese', 0.00036077221528896974)]"
            ]
          },
          "metadata": {}
        }
      ],
      "source": [
        "# 2022\n",
        "tfidf_22= compute_tfidf(IDF,TF2022)\n",
        "top5words_22 = Counter(tfidf_22).most_common()[:5]\n",
        "display(top5words_22)"
      ]
    },
    {
      "cell_type": "code",
      "execution_count": null,
      "id": "8c0bd3a1",
      "metadata": {
        "id": "8c0bd3a1"
      },
      "outputs": [],
      "source": []
    }
  ],
  "metadata": {
    "kernelspec": {
      "display_name": "Python 3 (ipykernel)",
      "language": "python",
      "name": "python3"
    },
    "language_info": {
      "codemirror_mode": {
        "name": "ipython",
        "version": 3
      },
      "file_extension": ".py",
      "mimetype": "text/x-python",
      "name": "python",
      "nbconvert_exporter": "python",
      "pygments_lexer": "ipython3",
      "version": "3.9.12"
    },
    "colab": {
      "provenance": []
    }
  },
  "nbformat": 4,
  "nbformat_minor": 5
}